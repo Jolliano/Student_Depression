{
 "cells": [
  {
   "cell_type": "code",
   "execution_count": 1,
   "id": "b30352be",
   "metadata": {},
   "outputs": [],
   "source": [
    "import pandas as pd\n",
    "import numpy as np"
   ]
  },
  {
   "cell_type": "code",
   "execution_count": 2,
   "id": "555e943d",
   "metadata": {
    "execution": {
     "iopub.execute_input": "2024-12-27T09:35:21.714743Z",
     "iopub.status.busy": "2024-12-27T09:35:21.714280Z",
     "iopub.status.idle": "2024-12-27T09:35:21.856475Z",
     "shell.execute_reply": "2024-12-27T09:35:21.855423Z"
    },
    "papermill": {
     "duration": 0.153956,
     "end_time": "2024-12-27T09:35:21.858245",
     "exception": false,
     "start_time": "2024-12-27T09:35:21.704289",
     "status": "completed"
    },
    "tags": []
   },
   "outputs": [
    {
     "data": {
      "text/html": [
       "<div>\n",
       "<style scoped>\n",
       "    .dataframe tbody tr th:only-of-type {\n",
       "        vertical-align: middle;\n",
       "    }\n",
       "\n",
       "    .dataframe tbody tr th {\n",
       "        vertical-align: top;\n",
       "    }\n",
       "\n",
       "    .dataframe thead th {\n",
       "        text-align: right;\n",
       "    }\n",
       "</style>\n",
       "<table border=\"1\" class=\"dataframe\">\n",
       "  <thead>\n",
       "    <tr style=\"text-align: right;\">\n",
       "      <th></th>\n",
       "      <th>id</th>\n",
       "      <th>Gender</th>\n",
       "      <th>Age</th>\n",
       "      <th>City</th>\n",
       "      <th>Profession</th>\n",
       "      <th>Academic Pressure</th>\n",
       "      <th>Work Pressure</th>\n",
       "      <th>CGPA</th>\n",
       "      <th>Study Satisfaction</th>\n",
       "      <th>Job Satisfaction</th>\n",
       "      <th>Sleep Duration</th>\n",
       "      <th>Dietary Habits</th>\n",
       "      <th>Degree</th>\n",
       "      <th>Have you ever had suicidal thoughts ?</th>\n",
       "      <th>Work/Study Hours</th>\n",
       "      <th>Financial Stress</th>\n",
       "      <th>Family History of Mental Illness</th>\n",
       "      <th>Depression</th>\n",
       "    </tr>\n",
       "  </thead>\n",
       "  <tbody>\n",
       "    <tr>\n",
       "      <th>0</th>\n",
       "      <td>2</td>\n",
       "      <td>Male</td>\n",
       "      <td>33.0</td>\n",
       "      <td>Visakhapatnam</td>\n",
       "      <td>Student</td>\n",
       "      <td>5.0</td>\n",
       "      <td>0.0</td>\n",
       "      <td>8.97</td>\n",
       "      <td>2.0</td>\n",
       "      <td>0.0</td>\n",
       "      <td>5-6 hours</td>\n",
       "      <td>Healthy</td>\n",
       "      <td>B.Pharm</td>\n",
       "      <td>Yes</td>\n",
       "      <td>3.0</td>\n",
       "      <td>1.0</td>\n",
       "      <td>No</td>\n",
       "      <td>1</td>\n",
       "    </tr>\n",
       "    <tr>\n",
       "      <th>1</th>\n",
       "      <td>8</td>\n",
       "      <td>Female</td>\n",
       "      <td>24.0</td>\n",
       "      <td>Bangalore</td>\n",
       "      <td>Student</td>\n",
       "      <td>2.0</td>\n",
       "      <td>0.0</td>\n",
       "      <td>5.90</td>\n",
       "      <td>5.0</td>\n",
       "      <td>0.0</td>\n",
       "      <td>5-6 hours</td>\n",
       "      <td>Moderate</td>\n",
       "      <td>BSc</td>\n",
       "      <td>No</td>\n",
       "      <td>3.0</td>\n",
       "      <td>2.0</td>\n",
       "      <td>Yes</td>\n",
       "      <td>0</td>\n",
       "    </tr>\n",
       "    <tr>\n",
       "      <th>2</th>\n",
       "      <td>26</td>\n",
       "      <td>Male</td>\n",
       "      <td>31.0</td>\n",
       "      <td>Srinagar</td>\n",
       "      <td>Student</td>\n",
       "      <td>3.0</td>\n",
       "      <td>0.0</td>\n",
       "      <td>7.03</td>\n",
       "      <td>5.0</td>\n",
       "      <td>0.0</td>\n",
       "      <td>Less than 5 hours</td>\n",
       "      <td>Healthy</td>\n",
       "      <td>BA</td>\n",
       "      <td>No</td>\n",
       "      <td>9.0</td>\n",
       "      <td>1.0</td>\n",
       "      <td>Yes</td>\n",
       "      <td>0</td>\n",
       "    </tr>\n",
       "    <tr>\n",
       "      <th>3</th>\n",
       "      <td>30</td>\n",
       "      <td>Female</td>\n",
       "      <td>28.0</td>\n",
       "      <td>Varanasi</td>\n",
       "      <td>Student</td>\n",
       "      <td>3.0</td>\n",
       "      <td>0.0</td>\n",
       "      <td>5.59</td>\n",
       "      <td>2.0</td>\n",
       "      <td>0.0</td>\n",
       "      <td>7-8 hours</td>\n",
       "      <td>Moderate</td>\n",
       "      <td>BCA</td>\n",
       "      <td>Yes</td>\n",
       "      <td>4.0</td>\n",
       "      <td>5.0</td>\n",
       "      <td>Yes</td>\n",
       "      <td>1</td>\n",
       "    </tr>\n",
       "    <tr>\n",
       "      <th>4</th>\n",
       "      <td>32</td>\n",
       "      <td>Female</td>\n",
       "      <td>25.0</td>\n",
       "      <td>Jaipur</td>\n",
       "      <td>Student</td>\n",
       "      <td>4.0</td>\n",
       "      <td>0.0</td>\n",
       "      <td>8.13</td>\n",
       "      <td>3.0</td>\n",
       "      <td>0.0</td>\n",
       "      <td>5-6 hours</td>\n",
       "      <td>Moderate</td>\n",
       "      <td>M.Tech</td>\n",
       "      <td>Yes</td>\n",
       "      <td>1.0</td>\n",
       "      <td>1.0</td>\n",
       "      <td>No</td>\n",
       "      <td>0</td>\n",
       "    </tr>\n",
       "    <tr>\n",
       "      <th>...</th>\n",
       "      <td>...</td>\n",
       "      <td>...</td>\n",
       "      <td>...</td>\n",
       "      <td>...</td>\n",
       "      <td>...</td>\n",
       "      <td>...</td>\n",
       "      <td>...</td>\n",
       "      <td>...</td>\n",
       "      <td>...</td>\n",
       "      <td>...</td>\n",
       "      <td>...</td>\n",
       "      <td>...</td>\n",
       "      <td>...</td>\n",
       "      <td>...</td>\n",
       "      <td>...</td>\n",
       "      <td>...</td>\n",
       "      <td>...</td>\n",
       "      <td>...</td>\n",
       "    </tr>\n",
       "    <tr>\n",
       "      <th>27896</th>\n",
       "      <td>140685</td>\n",
       "      <td>Female</td>\n",
       "      <td>27.0</td>\n",
       "      <td>Surat</td>\n",
       "      <td>Student</td>\n",
       "      <td>5.0</td>\n",
       "      <td>0.0</td>\n",
       "      <td>5.75</td>\n",
       "      <td>5.0</td>\n",
       "      <td>0.0</td>\n",
       "      <td>5-6 hours</td>\n",
       "      <td>Unhealthy</td>\n",
       "      <td>Class 12</td>\n",
       "      <td>Yes</td>\n",
       "      <td>7.0</td>\n",
       "      <td>1.0</td>\n",
       "      <td>Yes</td>\n",
       "      <td>0</td>\n",
       "    </tr>\n",
       "    <tr>\n",
       "      <th>27897</th>\n",
       "      <td>140686</td>\n",
       "      <td>Male</td>\n",
       "      <td>27.0</td>\n",
       "      <td>Ludhiana</td>\n",
       "      <td>Student</td>\n",
       "      <td>2.0</td>\n",
       "      <td>0.0</td>\n",
       "      <td>9.40</td>\n",
       "      <td>3.0</td>\n",
       "      <td>0.0</td>\n",
       "      <td>Less than 5 hours</td>\n",
       "      <td>Healthy</td>\n",
       "      <td>MSc</td>\n",
       "      <td>No</td>\n",
       "      <td>0.0</td>\n",
       "      <td>3.0</td>\n",
       "      <td>Yes</td>\n",
       "      <td>0</td>\n",
       "    </tr>\n",
       "    <tr>\n",
       "      <th>27898</th>\n",
       "      <td>140689</td>\n",
       "      <td>Male</td>\n",
       "      <td>31.0</td>\n",
       "      <td>Faridabad</td>\n",
       "      <td>Student</td>\n",
       "      <td>3.0</td>\n",
       "      <td>0.0</td>\n",
       "      <td>6.61</td>\n",
       "      <td>4.0</td>\n",
       "      <td>0.0</td>\n",
       "      <td>5-6 hours</td>\n",
       "      <td>Unhealthy</td>\n",
       "      <td>MD</td>\n",
       "      <td>No</td>\n",
       "      <td>12.0</td>\n",
       "      <td>2.0</td>\n",
       "      <td>No</td>\n",
       "      <td>0</td>\n",
       "    </tr>\n",
       "    <tr>\n",
       "      <th>27899</th>\n",
       "      <td>140690</td>\n",
       "      <td>Female</td>\n",
       "      <td>18.0</td>\n",
       "      <td>Ludhiana</td>\n",
       "      <td>Student</td>\n",
       "      <td>5.0</td>\n",
       "      <td>0.0</td>\n",
       "      <td>6.88</td>\n",
       "      <td>2.0</td>\n",
       "      <td>0.0</td>\n",
       "      <td>Less than 5 hours</td>\n",
       "      <td>Healthy</td>\n",
       "      <td>Class 12</td>\n",
       "      <td>Yes</td>\n",
       "      <td>10.0</td>\n",
       "      <td>5.0</td>\n",
       "      <td>No</td>\n",
       "      <td>1</td>\n",
       "    </tr>\n",
       "    <tr>\n",
       "      <th>27900</th>\n",
       "      <td>140699</td>\n",
       "      <td>Male</td>\n",
       "      <td>27.0</td>\n",
       "      <td>Patna</td>\n",
       "      <td>Student</td>\n",
       "      <td>4.0</td>\n",
       "      <td>0.0</td>\n",
       "      <td>9.24</td>\n",
       "      <td>1.0</td>\n",
       "      <td>0.0</td>\n",
       "      <td>Less than 5 hours</td>\n",
       "      <td>Healthy</td>\n",
       "      <td>BCA</td>\n",
       "      <td>Yes</td>\n",
       "      <td>2.0</td>\n",
       "      <td>3.0</td>\n",
       "      <td>Yes</td>\n",
       "      <td>1</td>\n",
       "    </tr>\n",
       "  </tbody>\n",
       "</table>\n",
       "<p>27901 rows × 18 columns</p>\n",
       "</div>"
      ],
      "text/plain": [
       "           id  Gender   Age           City Profession  Academic Pressure  \\\n",
       "0           2    Male  33.0  Visakhapatnam    Student                5.0   \n",
       "1           8  Female  24.0      Bangalore    Student                2.0   \n",
       "2          26    Male  31.0       Srinagar    Student                3.0   \n",
       "3          30  Female  28.0       Varanasi    Student                3.0   \n",
       "4          32  Female  25.0         Jaipur    Student                4.0   \n",
       "...       ...     ...   ...            ...        ...                ...   \n",
       "27896  140685  Female  27.0          Surat    Student                5.0   \n",
       "27897  140686    Male  27.0       Ludhiana    Student                2.0   \n",
       "27898  140689    Male  31.0      Faridabad    Student                3.0   \n",
       "27899  140690  Female  18.0       Ludhiana    Student                5.0   \n",
       "27900  140699    Male  27.0          Patna    Student                4.0   \n",
       "\n",
       "       Work Pressure  CGPA  Study Satisfaction  Job Satisfaction  \\\n",
       "0                0.0  8.97                 2.0               0.0   \n",
       "1                0.0  5.90                 5.0               0.0   \n",
       "2                0.0  7.03                 5.0               0.0   \n",
       "3                0.0  5.59                 2.0               0.0   \n",
       "4                0.0  8.13                 3.0               0.0   \n",
       "...              ...   ...                 ...               ...   \n",
       "27896            0.0  5.75                 5.0               0.0   \n",
       "27897            0.0  9.40                 3.0               0.0   \n",
       "27898            0.0  6.61                 4.0               0.0   \n",
       "27899            0.0  6.88                 2.0               0.0   \n",
       "27900            0.0  9.24                 1.0               0.0   \n",
       "\n",
       "          Sleep Duration Dietary Habits    Degree  \\\n",
       "0              5-6 hours        Healthy   B.Pharm   \n",
       "1              5-6 hours       Moderate       BSc   \n",
       "2      Less than 5 hours        Healthy        BA   \n",
       "3              7-8 hours       Moderate       BCA   \n",
       "4              5-6 hours       Moderate    M.Tech   \n",
       "...                  ...            ...       ...   \n",
       "27896          5-6 hours      Unhealthy  Class 12   \n",
       "27897  Less than 5 hours        Healthy       MSc   \n",
       "27898          5-6 hours      Unhealthy        MD   \n",
       "27899  Less than 5 hours        Healthy  Class 12   \n",
       "27900  Less than 5 hours        Healthy       BCA   \n",
       "\n",
       "      Have you ever had suicidal thoughts ?  Work/Study Hours  \\\n",
       "0                                       Yes               3.0   \n",
       "1                                        No               3.0   \n",
       "2                                        No               9.0   \n",
       "3                                       Yes               4.0   \n",
       "4                                       Yes               1.0   \n",
       "...                                     ...               ...   \n",
       "27896                                   Yes               7.0   \n",
       "27897                                    No               0.0   \n",
       "27898                                    No              12.0   \n",
       "27899                                   Yes              10.0   \n",
       "27900                                   Yes               2.0   \n",
       "\n",
       "       Financial Stress Family History of Mental Illness  Depression  \n",
       "0                   1.0                               No           1  \n",
       "1                   2.0                              Yes           0  \n",
       "2                   1.0                              Yes           0  \n",
       "3                   5.0                              Yes           1  \n",
       "4                   1.0                               No           0  \n",
       "...                 ...                              ...         ...  \n",
       "27896               1.0                              Yes           0  \n",
       "27897               3.0                              Yes           0  \n",
       "27898               2.0                               No           0  \n",
       "27899               5.0                               No           1  \n",
       "27900               3.0                              Yes           1  \n",
       "\n",
       "[27901 rows x 18 columns]"
      ]
     },
     "execution_count": 2,
     "metadata": {},
     "output_type": "execute_result"
    }
   ],
   "source": [
    "df = pd.read_csv('Student Depression Dataset.csv',header = 0)\n",
    "df"
   ]
  },
  {
   "cell_type": "code",
   "execution_count": 3,
   "id": "6519b024",
   "metadata": {
    "execution": {
     "iopub.execute_input": "2024-12-27T09:35:21.877731Z",
     "iopub.status.busy": "2024-12-27T09:35:21.877351Z",
     "iopub.status.idle": "2024-12-27T09:35:21.911664Z",
     "shell.execute_reply": "2024-12-27T09:35:21.910399Z"
    },
    "papermill": {
     "duration": 0.045792,
     "end_time": "2024-12-27T09:35:21.913341",
     "exception": false,
     "start_time": "2024-12-27T09:35:21.867549",
     "status": "completed"
    },
    "tags": []
   },
   "outputs": [
    {
     "name": "stdout",
     "output_type": "stream",
     "text": [
      "<class 'pandas.core.frame.DataFrame'>\n",
      "RangeIndex: 27901 entries, 0 to 27900\n",
      "Data columns (total 18 columns):\n",
      " #   Column                                 Non-Null Count  Dtype  \n",
      "---  ------                                 --------------  -----  \n",
      " 0   id                                     27901 non-null  int64  \n",
      " 1   Gender                                 27901 non-null  object \n",
      " 2   Age                                    27901 non-null  float64\n",
      " 3   City                                   27901 non-null  object \n",
      " 4   Profession                             27901 non-null  object \n",
      " 5   Academic Pressure                      27901 non-null  float64\n",
      " 6   Work Pressure                          27901 non-null  float64\n",
      " 7   CGPA                                   27901 non-null  float64\n",
      " 8   Study Satisfaction                     27901 non-null  float64\n",
      " 9   Job Satisfaction                       27901 non-null  float64\n",
      " 10  Sleep Duration                         27901 non-null  object \n",
      " 11  Dietary Habits                         27901 non-null  object \n",
      " 12  Degree                                 27901 non-null  object \n",
      " 13  Have you ever had suicidal thoughts ?  27901 non-null  object \n",
      " 14  Work/Study Hours                       27901 non-null  float64\n",
      " 15  Financial Stress                       27898 non-null  float64\n",
      " 16  Family History of Mental Illness       27901 non-null  object \n",
      " 17  Depression                             27901 non-null  int64  \n",
      "dtypes: float64(8), int64(2), object(8)\n",
      "memory usage: 3.0+ MB\n"
     ]
    }
   ],
   "source": [
    "df.info()"
   ]
  },
  {
   "cell_type": "code",
   "execution_count": 4,
   "id": "d6074237",
   "metadata": {
    "execution": {
     "iopub.execute_input": "2024-12-27T09:35:21.933135Z",
     "iopub.status.busy": "2024-12-27T09:35:21.932799Z",
     "iopub.status.idle": "2024-12-27T09:35:21.962373Z",
     "shell.execute_reply": "2024-12-27T09:35:21.961411Z"
    },
    "papermill": {
     "duration": 0.041555,
     "end_time": "2024-12-27T09:35:21.964278",
     "exception": false,
     "start_time": "2024-12-27T09:35:21.922723",
     "status": "completed"
    },
    "tags": []
   },
   "outputs": [
    {
     "data": {
      "text/plain": [
       "[array([     2,      8,     26, ..., 140689, 140690, 140699], dtype=int64),\n",
       " array(['Male', 'Female'], dtype=object),\n",
       " array([33., 24., 31., 28., 25., 29., 30., 27., 19., 20., 23., 18., 21.,\n",
       "        22., 34., 32., 26., 39., 35., 42., 36., 58., 49., 38., 51., 44.,\n",
       "        43., 46., 59., 54., 48., 56., 37., 41.]),\n",
       " array(['Visakhapatnam', 'Bangalore', 'Srinagar', 'Varanasi', 'Jaipur',\n",
       "        'Pune', 'Thane', 'Chennai', 'Nagpur', 'Nashik', 'Vadodara',\n",
       "        'Kalyan', 'Rajkot', 'Ahmedabad', 'Kolkata', 'Mumbai', 'Lucknow',\n",
       "        'Indore', 'Surat', 'Ludhiana', 'Bhopal', 'Meerut', 'Agra',\n",
       "        'Ghaziabad', 'Hyderabad', 'Vasai-Virar', 'Kanpur', 'Patna',\n",
       "        'Faridabad', 'Delhi', 'Saanvi', 'M.Tech', 'Bhavna', 'Less Delhi',\n",
       "        'City', '3.0', 'Less than 5 Kalyan', 'Mira', 'Harsha', 'Vaanya',\n",
       "        'Gaurav', 'Harsh', 'Reyansh', 'Kibara', 'Rashi', 'ME', 'M.Com',\n",
       "        'Nalyan', 'Mihir', 'Nalini', 'Nandini', 'Khaziabad'], dtype=object),\n",
       " array(['Student', 'Civil Engineer', 'Architect', 'UX/UI Designer',\n",
       "        'Digital Marketer', 'Content Writer', 'Educational Consultant',\n",
       "        'Teacher', 'Manager', 'Chef', 'Doctor', 'Lawyer', 'Entrepreneur',\n",
       "        'Pharmacist'], dtype=object),\n",
       " array([5., 2., 3., 4., 1., 0.]),\n",
       " array([0., 5., 2.]),\n",
       " array([ 8.97  ,  5.9   ,  7.03  ,  5.59  ,  8.13  ,  5.7   ,  9.54  ,\n",
       "         8.04  ,  9.79  ,  8.38  ,  6.1   ,  7.04  ,  8.52  ,  5.64  ,\n",
       "         8.58  ,  6.51  ,  7.25  ,  7.83  ,  9.93  ,  8.74  ,  6.73  ,\n",
       "         5.57  ,  8.59  ,  7.1   ,  6.08  ,  5.74  ,  9.86  ,  6.7   ,\n",
       "         6.21  ,  5.87  ,  6.37  ,  9.72  ,  5.88  ,  9.56  ,  6.99  ,\n",
       "         5.24  ,  9.21  ,  7.85  ,  6.95  ,  5.86  ,  7.92  ,  9.66  ,\n",
       "         8.94  ,  9.71  ,  7.87  ,  5.6   ,  7.9   ,  5.46  ,  6.79  ,\n",
       "         8.7   ,  7.38  ,  8.5   ,  7.09  ,  9.82  ,  8.89  ,  7.94  ,\n",
       "         9.11  ,  6.75  ,  7.53  ,  9.49  ,  9.01  ,  7.64  ,  5.27  ,\n",
       "         6.    ,  9.44  ,  5.75  ,  7.51  ,  9.05  ,  6.38  ,  8.95  ,\n",
       "         9.88  ,  5.32  ,  6.27  ,  7.7   ,  8.1   ,  9.59  ,  8.96  ,\n",
       "         5.51  ,  7.43  ,  8.79  ,  9.95  ,  5.37  ,  6.86  ,  8.32  ,\n",
       "         9.74  ,  5.66  ,  7.48  ,  8.23  ,  8.81  ,  6.03  ,  5.56  ,\n",
       "         5.68  ,  5.14  ,  7.61  ,  6.17  ,  8.17  ,  9.87  ,  8.75  ,\n",
       "         6.16  ,  9.5   ,  7.99  ,  5.67  ,  8.92  ,  6.19  ,  5.76  ,\n",
       "         6.25  ,  5.11  ,  5.58  ,  5.65  ,  9.89  ,  8.03  ,  6.61  ,\n",
       "         9.41  ,  8.64  ,  7.21  ,  8.28  ,  6.04  ,  9.13  ,  8.08  ,\n",
       "         9.96  ,  5.12  ,  8.35  ,  7.07  ,  9.6   ,  9.24  ,  8.54  ,\n",
       "         8.78  ,  8.93  ,  8.91  ,  9.04  ,  6.83  ,  5.85  ,  7.74  ,\n",
       "         6.41  ,  8.9   ,  7.75  ,  7.88  ,  5.42  ,  7.52  ,  7.68  ,\n",
       "         8.4   ,  9.39  ,  6.84  ,  5.99  ,  8.62  ,  8.53  ,  7.47  ,\n",
       "         6.78  ,  6.42  ,  9.92  ,  8.39  ,  5.89  ,  7.22  ,  6.81  ,\n",
       "         9.02  ,  9.97  ,  9.63  ,  9.67  ,  5.41  ,  7.27  ,  6.05  ,\n",
       "         6.85  ,  9.33  ,  5.81  ,  6.53  ,  5.98  ,  6.02  ,  6.74  ,\n",
       "         5.26  ,  7.72  ,  7.39  ,  8.43  ,  9.34  ,  5.44  ,  5.82  ,\n",
       "         5.72  ,  8.19  ,  8.44  ,  8.98  ,  9.37  ,  5.8   ,  7.28  ,\n",
       "         7.6   ,  7.91  ,  9.17  ,  7.46  ,  9.43  ,  9.91  ,  9.36  ,\n",
       "         5.16  ,  7.08  ,  9.26  ,  8.83  , 10.    ,  7.8   ,  9.46  ,\n",
       "         6.63  ,  7.24  ,  6.47  ,  7.77  ,  5.06  ,  7.17  ,  8.24  ,\n",
       "         6.88  ,  9.03  ,  5.08  ,  5.45  ,  8.46  ,  9.19  ,  6.36  ,\n",
       "         8.73  ,  7.11  ,  9.12  ,  9.4   ,  8.11  ,  9.98  ,  5.55  ,\n",
       "         8.61  ,  8.14  ,  6.89  ,  9.84  ,  5.48  ,  8.21  ,  7.82  ,\n",
       "         8.55  ,  5.79  ,  8.77  ,  8.29  ,  6.92  ,  7.37  ,  9.7   ,\n",
       "         6.26  ,  7.26  ,  7.5   ,  6.82  ,  7.15  ,  5.77  ,  5.91  ,\n",
       "         5.1   ,  7.71  ,  9.06  ,  5.71  ,  5.84  ,  9.42  ,  6.23  ,\n",
       "         6.29  ,  5.25  ,  9.69  ,  9.9   ,  6.39  ,  8.09  ,  5.83  ,\n",
       "         5.47  ,  6.56  ,  8.71  ,  9.94  ,  6.69  ,  5.52  ,  7.3   ,\n",
       "         7.02  ,  6.33  ,  8.07  ,  8.37  ,  8.    ,  7.79  ,  8.65  ,\n",
       "         6.28  ,  7.35  ,  8.69  ,  7.12  ,  7.32  ,  7.13  ,  5.97  ,\n",
       "         5.09  ,  6.91  ,  6.76  ,  6.52  ,  7.45  ,  8.56  ,  6.5   ,\n",
       "         8.63  ,  8.27  ,  8.49  ,  6.59  ,  9.29  ,  5.3   ,  7.06  ,\n",
       "         5.38  ,  6.65  ,  9.16  ,  8.01  ,  8.25  ,  8.02  ,  8.47  ,\n",
       "         7.34  ,  8.88  ,  7.14  ,  8.42  ,  5.17  ,  9.1   ,  7.49  ,\n",
       "         9.85  ,  7.42  ,  9.31  ,  6.35  ,  7.    ,  5.39  ,  5.61  ,\n",
       "         9.78  ,  9.25  ,  5.69  ,  9.47  ,  8.16  ,  7.23  ,  6.46  ,\n",
       "         0.    ,  8.26  ,  6.32  ,  6.77  ,  8.85  ,  5.03  ,  7.65  ,\n",
       "         5.78  ,  6.24  ,  5.35  ,  6.06  ,  7.78  ,  6.64  ,  7.0625,\n",
       "         6.98  ,  6.44  ,  6.09  ]),\n",
       " array([2., 5., 3., 4., 1., 0.]),\n",
       " array([0., 3., 4., 2., 1.]),\n",
       " array(['5-6 hours', 'Less than 5 hours', '7-8 hours', 'More than 8 hours',\n",
       "        'Others'], dtype=object),\n",
       " array(['Healthy', 'Moderate', 'Unhealthy', 'Others'], dtype=object),\n",
       " array(['B.Pharm', 'BSc', 'BA', 'BCA', 'M.Tech', 'PhD', 'Class 12', 'B.Ed',\n",
       "        'LLB', 'BE', 'M.Ed', 'MSc', 'BHM', 'M.Pharm', 'MCA', 'MA', 'B.Com',\n",
       "        'MD', 'MBA', 'MBBS', 'M.Com', 'B.Arch', 'LLM', 'B.Tech', 'BBA',\n",
       "        'ME', 'MHM', 'Others'], dtype=object),\n",
       " array(['Yes', 'No'], dtype=object),\n",
       " array([ 3.,  9.,  4.,  1.,  0., 12.,  2., 11., 10.,  6.,  8.,  5.,  7.]),\n",
       " array([ 1.,  2.,  5.,  3.,  4., nan]),\n",
       " array(['No', 'Yes'], dtype=object),\n",
       " array([1, 0], dtype=int64)]"
      ]
     },
     "execution_count": 4,
     "metadata": {},
     "output_type": "execute_result"
    }
   ],
   "source": [
    "[df[item].unique() for item in df.columns]"
   ]
  },
  {
   "cell_type": "code",
   "execution_count": 5,
   "id": "9bbf7bc4",
   "metadata": {
    "execution": {
     "iopub.execute_input": "2024-12-27T09:35:21.984865Z",
     "iopub.status.busy": "2024-12-27T09:35:21.984335Z",
     "iopub.status.idle": "2024-12-27T09:35:22.002437Z",
     "shell.execute_reply": "2024-12-27T09:35:22.001560Z"
    },
    "papermill": {
     "duration": 0.030155,
     "end_time": "2024-12-27T09:35:22.004191",
     "exception": false,
     "start_time": "2024-12-27T09:35:21.974036",
     "status": "completed"
    },
    "tags": []
   },
   "outputs": [
    {
     "data": {
      "text/plain": [
       "id                                       False\n",
       "Gender                                   False\n",
       "Age                                      False\n",
       "City                                     False\n",
       "Profession                               False\n",
       "Academic Pressure                        False\n",
       "Work Pressure                            False\n",
       "CGPA                                     False\n",
       "Study Satisfaction                       False\n",
       "Job Satisfaction                         False\n",
       "Sleep Duration                           False\n",
       "Dietary Habits                           False\n",
       "Degree                                   False\n",
       "Have you ever had suicidal thoughts ?    False\n",
       "Work/Study Hours                         False\n",
       "Financial Stress                          True\n",
       "Family History of Mental Illness         False\n",
       "Depression                               False\n",
       "dtype: bool"
      ]
     },
     "execution_count": 5,
     "metadata": {},
     "output_type": "execute_result"
    }
   ],
   "source": [
    "df.isnull().any()"
   ]
  },
  {
   "cell_type": "code",
   "execution_count": 6,
   "id": "ad8cd8f8",
   "metadata": {
    "execution": {
     "iopub.execute_input": "2024-12-27T09:35:22.025407Z",
     "iopub.status.busy": "2024-12-27T09:35:22.025102Z",
     "iopub.status.idle": "2024-12-27T09:35:22.043511Z",
     "shell.execute_reply": "2024-12-27T09:35:22.042540Z"
    },
    "papermill": {
     "duration": 0.030823,
     "end_time": "2024-12-27T09:35:22.045171",
     "exception": false,
     "start_time": "2024-12-27T09:35:22.014348",
     "status": "completed"
    },
    "tags": []
   },
   "outputs": [
    {
     "data": {
      "text/plain": [
       "id                                       0\n",
       "Gender                                   0\n",
       "Age                                      0\n",
       "City                                     0\n",
       "Profession                               0\n",
       "Academic Pressure                        0\n",
       "Work Pressure                            0\n",
       "CGPA                                     0\n",
       "Study Satisfaction                       0\n",
       "Job Satisfaction                         0\n",
       "Sleep Duration                           0\n",
       "Dietary Habits                           0\n",
       "Degree                                   0\n",
       "Have you ever had suicidal thoughts ?    0\n",
       "Work/Study Hours                         0\n",
       "Financial Stress                         3\n",
       "Family History of Mental Illness         0\n",
       "Depression                               0\n",
       "dtype: int64"
      ]
     },
     "execution_count": 6,
     "metadata": {},
     "output_type": "execute_result"
    }
   ],
   "source": [
    "df.isnull().sum()"
   ]
  },
  {
   "cell_type": "code",
   "execution_count": 7,
   "id": "1b5b5a8e",
   "metadata": {
    "execution": {
     "iopub.execute_input": "2024-12-27T09:35:22.066038Z",
     "iopub.status.busy": "2024-12-27T09:35:22.065714Z",
     "iopub.status.idle": "2024-12-27T09:35:22.084993Z",
     "shell.execute_reply": "2024-12-27T09:35:22.083924Z"
    },
    "papermill": {
     "duration": 0.031683,
     "end_time": "2024-12-27T09:35:22.086681",
     "exception": false,
     "start_time": "2024-12-27T09:35:22.054998",
     "status": "completed"
    },
    "tags": []
   },
   "outputs": [],
   "source": [
    "df_clean = df.dropna()"
   ]
  },
  {
   "cell_type": "code",
   "execution_count": 8,
   "id": "4d5ae66c",
   "metadata": {
    "execution": {
     "iopub.execute_input": "2024-12-27T09:35:22.107200Z",
     "iopub.status.busy": "2024-12-27T09:35:22.106871Z",
     "iopub.status.idle": "2024-12-27T09:35:22.127934Z",
     "shell.execute_reply": "2024-12-27T09:35:22.127009Z"
    },
    "papermill": {
     "duration": 0.032927,
     "end_time": "2024-12-27T09:35:22.129427",
     "exception": false,
     "start_time": "2024-12-27T09:35:22.096500",
     "status": "completed"
    },
    "tags": []
   },
   "outputs": [
    {
     "data": {
      "text/plain": [
       "Gender                                   0\n",
       "Age                                      0\n",
       "City                                     0\n",
       "Profession                               0\n",
       "Academic Pressure                        0\n",
       "Work Pressure                            0\n",
       "CGPA                                     0\n",
       "Study Satisfaction                       0\n",
       "Job Satisfaction                         0\n",
       "Sleep Duration                           0\n",
       "Dietary Habits                           0\n",
       "Degree                                   0\n",
       "Have you ever had suicidal thoughts ?    0\n",
       "Work/Study Hours                         0\n",
       "Financial Stress                         0\n",
       "Family History of Mental Illness         0\n",
       "Depression                               0\n",
       "dtype: int64"
      ]
     },
     "execution_count": 8,
     "metadata": {},
     "output_type": "execute_result"
    }
   ],
   "source": [
    "del_col = ['id']\n",
    "for_model = df_clean.drop(del_col, axis = 1)\n",
    "for_model.isnull().sum()"
   ]
  },
  {
   "cell_type": "code",
   "execution_count": 9,
   "id": "74583c69",
   "metadata": {},
   "outputs": [],
   "source": [
    "for_model = for_model.drop(columns=['City', 'Profession', 'Degree'])"
   ]
  },
  {
   "cell_type": "code",
   "execution_count": 10,
   "id": "8e15ae94",
   "metadata": {},
   "outputs": [],
   "source": [
    "for_model = for_model.drop(columns=['Family History of Mental Illness', 'Work/Study Hours', 'Work Pressure', 'Job Satisfaction', 'Dietary Habits'])"
   ]
  },
  {
   "cell_type": "code",
   "execution_count": 11,
   "id": "f0a878bf",
   "metadata": {},
   "outputs": [],
   "source": [
    "for_model['CGPA'] = for_model['CGPA']/2"
   ]
  },
  {
   "cell_type": "code",
   "execution_count": 12,
   "id": "6c29fce6",
   "metadata": {},
   "outputs": [
    {
     "data": {
      "text/plain": [
       "Less than 5 hours    8309\n",
       "7-8 hours            7346\n",
       "5-6 hours            6181\n",
       "More than 8 hours    6044\n",
       "Others                 18\n",
       "Name: Sleep Duration, dtype: int64"
      ]
     },
     "execution_count": 12,
     "metadata": {},
     "output_type": "execute_result"
    }
   ],
   "source": [
    "for_model['Sleep Duration'].value_counts()"
   ]
  },
  {
   "cell_type": "markdown",
   "id": "11add711",
   "metadata": {},
   "source": [
    "For the Encoding which should be used in the web application also...\n",
    "\n",
    "Gender:\n",
    "Male = 0, Female = 1\n",
    "\n",
    "Sleep Duration:\n",
    "5-6 hours = 0, Less than 5 hours = 1, 7-8 hours = 2, More than 8 hours = 3, Others = 4\n",
    "\n",
    "Have you ever had suicidal thoughts?:\n",
    "Yes = 0, No = 1"
   ]
  },
  {
   "cell_type": "code",
   "execution_count": 13,
   "id": "fbbaf556",
   "metadata": {},
   "outputs": [],
   "source": [
    "for_model['Gender'] = pd.factorize(for_model['Gender'])[0]\n",
    "for_model['Have you ever had suicidal thoughts ?'] = pd.factorize(for_model['Have you ever had suicidal thoughts ?']) [0]\n",
    "for_model['Sleep Duration'] = pd.factorize(for_model['Sleep Duration']) [0]"
   ]
  },
  {
   "cell_type": "markdown",
   "id": "f27efe7c",
   "metadata": {},
   "source": [
    "SELECTING X AND Y FEATURES"
   ]
  },
  {
   "cell_type": "code",
   "execution_count": 14,
   "id": "508a40e3",
   "metadata": {},
   "outputs": [],
   "source": [
    "x = for_model.drop(columns=['Depression'])\n",
    "y = for_model['Depression']"
   ]
  },
  {
   "cell_type": "code",
   "execution_count": 15,
   "id": "3ff13d18",
   "metadata": {},
   "outputs": [
    {
     "name": "stdout",
     "output_type": "stream",
     "text": [
      "Training Features (X_train):\n",
      "       Gender   Age  Academic Pressure   CGPA  Study Satisfaction  \\\n",
      "26049       0  34.0                2.0  4.085                 4.0   \n",
      "20528       0  23.0                5.0  2.870                 2.0   \n",
      "15399       1  25.0                3.0  4.815                 4.0   \n",
      "15001       1  20.0                1.0  2.785                 1.0   \n",
      "24417       1  30.0                0.0  2.735                 2.0   \n",
      "...       ...   ...                ...    ...                 ...   \n",
      "21578       1  25.0                2.0  2.870                 3.0   \n",
      "5391        0  23.0                5.0  2.660                 1.0   \n",
      "860         0  18.0                5.0  3.185                 3.0   \n",
      "15797       0  29.0                2.0  4.405                 2.0   \n",
      "23657       1  23.0                2.0  2.895                 5.0   \n",
      "\n",
      "       Sleep Duration  Have you ever had suicidal thoughts ?  Financial Stress  \n",
      "26049               1                                      1               1.0  \n",
      "20528               2                                      0               3.0  \n",
      "15399               2                                      0               4.0  \n",
      "15001               2                                      1               1.0  \n",
      "24417               1                                      0               1.0  \n",
      "...               ...                                    ...               ...  \n",
      "21578               2                                      1               2.0  \n",
      "5391                1                                      0               5.0  \n",
      "860                 1                                      0               5.0  \n",
      "15797               0                                      1               5.0  \n",
      "23657               0                                      0               5.0  \n",
      "\n",
      "[22318 rows x 8 columns]\n",
      "\n",
      "Testing Features (X_test):\n",
      "       Gender   Age  Academic Pressure   CGPA  Study Satisfaction  \\\n",
      "16479       1  27.0                2.0  4.005                 5.0   \n",
      "19518       0  19.0                5.0  3.250                 3.0   \n",
      "27260       0  19.0                3.0  2.870                 3.0   \n",
      "8318        1  26.0                5.0  2.580                 1.0   \n",
      "9889        0  24.0                2.0  4.220                 3.0   \n",
      "...       ...   ...                ...    ...                 ...   \n",
      "9673        0  33.0                5.0  3.390                 1.0   \n",
      "23          0  23.0                1.0  4.295                 4.0   \n",
      "21669       0  31.0                2.0  4.730                 5.0   \n",
      "22956       0  28.0                4.0  3.620                 1.0   \n",
      "7999        0  24.0                5.0  4.425                 3.0   \n",
      "\n",
      "       Sleep Duration  Have you ever had suicidal thoughts ?  Financial Stress  \n",
      "16479               2                                      0               5.0  \n",
      "19518               3                                      0               1.0  \n",
      "27260               1                                      0               3.0  \n",
      "8318                1                                      0               5.0  \n",
      "9889                3                                      0               1.0  \n",
      "...               ...                                    ...               ...  \n",
      "9673                1                                      0               1.0  \n",
      "23                  2                                      1               3.0  \n",
      "21669               2                                      1               4.0  \n",
      "22956               2                                      0               3.0  \n",
      "7999                1                                      0               2.0  \n",
      "\n",
      "[5580 rows x 8 columns]\n",
      "\n",
      "Training Target (y_train):\n",
      "26049    0\n",
      "20528    1\n",
      "15399    1\n",
      "15001    0\n",
      "24417    0\n",
      "        ..\n",
      "21578    0\n",
      "5391     1\n",
      "860      1\n",
      "15797    0\n",
      "23657    1\n",
      "Name: Depression, Length: 22318, dtype: int64\n",
      "\n",
      "Testing Target (y_test):\n",
      "16479    1\n",
      "19518    0\n",
      "27260    1\n",
      "8318     1\n",
      "9889     1\n",
      "        ..\n",
      "9673     0\n",
      "23       0\n",
      "21669    1\n",
      "22956    1\n",
      "7999     1\n",
      "Name: Depression, Length: 5580, dtype: int64\n"
     ]
    }
   ],
   "source": [
    "from sklearn.model_selection import train_test_split\n",
    "X_train, X_test, y_train, y_test = train_test_split(x, y, test_size=0.2, random_state=42)\n",
    "\n",
    "# Display the results\n",
    "print(\"Training Features (X_train):\")\n",
    "print(X_train)\n",
    "\n",
    "print(\"\\nTesting Features (X_test):\")\n",
    "print(X_test)\n",
    "\n",
    "print(\"\\nTraining Target (y_train):\")\n",
    "print(y_train)\n",
    "\n",
    "print(\"\\nTesting Target (y_test):\")\n",
    "print(y_test)\n"
   ]
  },
  {
   "cell_type": "markdown",
   "id": "6222b05f",
   "metadata": {},
   "source": [
    "SUPPORT VECTOR CLASSIFIER"
   ]
  },
  {
   "cell_type": "code",
   "execution_count": 16,
   "id": "8133b056",
   "metadata": {},
   "outputs": [],
   "source": [
    "from sklearn.svm import SVC\n",
    "from sklearn.metrics import accuracy_score\n",
    "\n",
    "clf = SVC(random_state=27)\n",
    "clf.fit(X_train, y_train)\n",
    "\n",
    "y_pred = clf.predict(X_test)"
   ]
  },
  {
   "cell_type": "code",
   "execution_count": 17,
   "id": "3a5c4fb9",
   "metadata": {},
   "outputs": [
    {
     "name": "stdout",
     "output_type": "stream",
     "text": [
      "Accuracy: 0.83710\n"
     ]
    }
   ],
   "source": [
    "accuracy = accuracy_score(y_test, y_pred)\n",
    "print(f\"Accuracy: {accuracy:.5f}\")"
   ]
  },
  {
   "cell_type": "markdown",
   "id": "4809a8a9",
   "metadata": {},
   "source": [
    "RANDOM FOREST CLASSIFIER"
   ]
  },
  {
   "cell_type": "code",
   "execution_count": 18,
   "id": "44702192",
   "metadata": {},
   "outputs": [],
   "source": [
    "from sklearn.ensemble import RandomForestClassifier\n",
    "\n",
    "rfc = RandomForestClassifier(random_state=0)\n",
    "rfc.fit(X_train, y_train)\n",
    "\n",
    "y_pred_rf = rfc.predict(X_test)\n"
   ]
  },
  {
   "cell_type": "code",
   "execution_count": 19,
   "id": "d6902513",
   "metadata": {},
   "outputs": [
    {
     "name": "stdout",
     "output_type": "stream",
     "text": [
      "Accuracy: 0.82\n"
     ]
    }
   ],
   "source": [
    "accuracy = accuracy_score(y_test, y_pred_rf)\n",
    "print(f\"Accuracy: {accuracy:.2f}\")"
   ]
  },
  {
   "cell_type": "markdown",
   "id": "5e3466a5",
   "metadata": {},
   "source": [
    "GRIDSEARCHCV BEST PARAMATERIZATION & HYPERTUNING"
   ]
  },
  {
   "cell_type": "code",
   "execution_count": 22,
   "id": "c3412b62",
   "metadata": {},
   "outputs": [
    {
     "name": "stdout",
     "output_type": "stream",
     "text": [
      "Fitting 3 folds for each of 216 candidates, totalling 648 fits\n"
     ]
    },
    {
     "name": "stderr",
     "output_type": "stream",
     "text": [
      "[Parallel(n_jobs=-1)]: Using backend LokyBackend with 8 concurrent workers.\n",
      "[Parallel(n_jobs=-1)]: Done  25 tasks      | elapsed:   25.0s\n",
      "[Parallel(n_jobs=-1)]: Done 146 tasks      | elapsed:  2.1min\n",
      "[Parallel(n_jobs=-1)]: Done 349 tasks      | elapsed:  4.9min\n",
      "[Parallel(n_jobs=-1)]: Done 632 tasks      | elapsed:  9.0min\n",
      "[Parallel(n_jobs=-1)]: Done 648 out of 648 | elapsed:  9.2min finished\n"
     ]
    },
    {
     "name": "stdout",
     "output_type": "stream",
     "text": [
      "Best Parameters: {'max_depth': 10, 'max_features': 'auto', 'min_samples_leaf': 4, 'min_samples_split': 10, 'n_estimators': 200}\n",
      "Best Cross-Validation Score: 0.84\n",
      "Test Set Accuracy: 0.83\n"
     ]
    }
   ],
   "source": [
    "from sklearn.model_selection import GridSearchCV\n",
    "# Define the parameter grid\n",
    "param_grid = {\n",
    "    'n_estimators': [100, 200, 300],\n",
    "    'max_depth': [None, 10, 20, 30],\n",
    "    'min_samples_split': [2, 5, 10],\n",
    "    'min_samples_leaf': [1, 2, 4],\n",
    "    'max_features': ['auto', 'sqrt']\n",
    "}\n",
    "\n",
    "# Instantiate the GridSearchCV\n",
    "grid_search = GridSearchCV(estimator=rfc, param_grid=param_grid, \n",
    "                           cv=3, n_jobs=-1, verbose=2)\n",
    "\n",
    "# Fit the grid search model\n",
    "grid_search.fit(X_train, y_train)\n",
    "\n",
    "# Get the best parameters and best score\n",
    "best_params = grid_search.best_params_\n",
    "best_score = grid_search.best_score_\n",
    "\n",
    "# Make predictions with the best model\n",
    "best_model = grid_search.best_estimator_\n",
    "y_pred = best_model.predict(X_test)\n",
    "\n",
    "# Evaluate the model\n",
    "accuracy = accuracy_score(y_test, y_pred)\n",
    "\n",
    "# Display results\n",
    "print(f\"Best Parameters: {best_params}\")\n",
    "print(f\"Best Cross-Validation Score: {best_score:.2f}\")\n",
    "print(f\"Test Set Accuracy: {accuracy:.2f}\")"
   ]
  },
  {
   "cell_type": "code",
   "execution_count": 24,
   "id": "931bbf32",
   "metadata": {},
   "outputs": [
    {
     "name": "stdout",
     "output_type": "stream",
     "text": [
      "Accuracy: 0.83387\n"
     ]
    }
   ],
   "source": [
    "best_rf = RandomForestClassifier(**best_params)\n",
    "best_rf.fit(X_train, y_train)\n",
    "\n",
    "y_pred_rf = best_rf.predict(X_test)\n",
    "accuracy = accuracy_score(y_test, y_pred_rf)\n",
    "print(f\"Accuracy: {accuracy:.5f}\")"
   ]
  },
  {
   "cell_type": "code",
   "execution_count": null,
   "id": "5722788a",
   "metadata": {},
   "outputs": [],
   "source": [
    "x"
   ]
  },
  {
   "cell_type": "code",
   "execution_count": 26,
   "id": "307ab7a4",
   "metadata": {},
   "outputs": [
    {
     "data": {
      "text/plain": [
       "Gender                                     int32\n",
       "Age                                      float64\n",
       "Academic Pressure                        float64\n",
       "CGPA                                     float64\n",
       "Study Satisfaction                       float64\n",
       "Sleep Duration                             int32\n",
       "Have you ever had suicidal thoughts ?      int32\n",
       "Financial Stress                         float64\n",
       "dtype: object"
      ]
     },
     "execution_count": 26,
     "metadata": {},
     "output_type": "execute_result"
    }
   ],
   "source": [
    "x.dtypes"
   ]
  },
  {
   "cell_type": "code",
   "execution_count": 41,
   "id": "5af5a73e",
   "metadata": {},
   "outputs": [],
   "source": [
    "# PICKLE TIME\n",
    "import pickle\n",
    "\n",
    "with open('model.pkl', 'wb') as files:\n",
    "    pickle.dump(best_rf, files)"
   ]
  },
  {
   "cell_type": "code",
   "execution_count": null,
   "id": "3bbd8cd7",
   "metadata": {},
   "outputs": [],
   "source": []
  }
 ],
 "metadata": {
  "kaggle": {
   "accelerator": "none",
   "dataSources": [
    {
     "datasetId": 6144877,
     "sourceId": 9985284,
     "sourceType": "datasetVersion"
    }
   ],
   "dockerImageVersionId": 30822,
   "isGpuEnabled": false,
   "isInternetEnabled": true,
   "language": "python",
   "sourceType": "notebook"
  },
  "kernelspec": {
   "display_name": "base",
   "language": "python",
   "name": "python3"
  },
  "language_info": {
   "codemirror_mode": {
    "name": "ipython",
    "version": 3
   },
   "file_extension": ".py",
   "mimetype": "text/x-python",
   "name": "python",
   "nbconvert_exporter": "python",
   "pygments_lexer": "ipython3",
   "version": "3.8.8"
  },
  "papermill": {
   "default_parameters": {},
   "duration": 97.973684,
   "end_time": "2024-12-27T09:36:57.199735",
   "environment_variables": {},
   "exception": null,
   "input_path": "__notebook__.ipynb",
   "output_path": "__notebook__.ipynb",
   "parameters": {},
   "start_time": "2024-12-27T09:35:19.226051",
   "version": "2.6.0"
  }
 },
 "nbformat": 4,
 "nbformat_minor": 5
}
